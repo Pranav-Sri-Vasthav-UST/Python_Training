{
 "cells": [
  {
   "cell_type": "code",
   "execution_count": 3,
   "id": "d5f3dc51-568d-4fba-b68a-a70d11f9a7ae",
   "metadata": {},
   "outputs": [
    {
     "data": {
      "text/plain": [
       "['Apple', 'Banana', 'Grapes', 'Cherry', 'Mango']"
      ]
     },
     "execution_count": 3,
     "metadata": {},
     "output_type": "execute_result"
    }
   ],
   "source": [
    "basket = [\"Apple\", \"Banana\", \"Cherry\", \"Mango\"]  \n",
    "basket.insert(2, \"Grapes\")\n",
    "basket"
   ]
  },
  {
   "cell_type": "code",
   "execution_count": 5,
   "id": "70269dd7-8a95-4e52-bb18-9b66dd20d609",
   "metadata": {},
   "outputs": [
    {
     "data": {
      "text/plain": [
       "[10, 20, [30, 45, 50], 60, 70]"
      ]
     },
     "execution_count": 5,
     "metadata": {},
     "output_type": "execute_result"
    }
   ],
   "source": [
    "data = [10, 20, [30, 40, 50], 60, 70] \n",
    "data[2][1] = 45\n",
    "data"
   ]
  },
  {
   "cell_type": "code",
   "execution_count": 6,
   "id": "1a57898a-3541-4946-84b5-243d985b32b1",
   "metadata": {},
   "outputs": [
    {
     "name": "stdout",
     "output_type": "stream",
     "text": [
      "[15, 12, 9]\n"
     ]
    }
   ],
   "source": [
    "nums = [3, 6, 9, 12, 15, 18, 21]\n",
    "print(list(reversed(nums[2:5])))"
   ]
  },
  {
   "cell_type": "code",
   "execution_count": 8,
   "id": "663b5abd-8f2a-42a9-83b9-64792179e155",
   "metadata": {},
   "outputs": [
    {
     "data": {
      "text/plain": [
       "[3, 8, 10, 12]"
      ]
     },
     "execution_count": 8,
     "metadata": {},
     "output_type": "execute_result"
    }
   ],
   "source": [
    "numbers = [5, 3, 8, 5, 10, 5, 12, 5]\n",
    "for i in numbers:\n",
    "    if (i == 5):\n",
    "        numbers.remove(i)\n",
    "numbers"
   ]
  },
  {
   "cell_type": "code",
   "execution_count": 22,
   "id": "bed51cef-e15e-4637-bcf5-c32b64624a07",
   "metadata": {},
   "outputs": [
    {
     "data": {
      "text/plain": [
       "[1, 2, 3, 4, 6, 7, 8, 9]"
      ]
     },
     "execution_count": 22,
     "metadata": {},
     "output_type": "execute_result"
    }
   ],
   "source": [
    "list1 = [8, 3, 1, 7]  \n",
    "list2 = [4, 9, 2, 6]\n",
    "list1.extend(list2)\n",
    "list1.sort()\n",
    "list1"
   ]
  },
  {
   "cell_type": "code",
   "execution_count": 11,
   "id": "3c5b1bec-a501-4a94-a44e-e079c17583ec",
   "metadata": {},
   "outputs": [
    {
     "data": {
      "text/plain": [
       "('Red', 'cyan', 'Blue', 'Yellow')"
      ]
     },
     "execution_count": 11,
     "metadata": {},
     "output_type": "execute_result"
    }
   ],
   "source": [
    "colors = (\"Red\", \"Green\", \"Blue\", \"Yellow\")\n",
    "list_colors = list(colors)\n",
    "list_colors[1] = \"cyan\"\n",
    "colors = tuple(list_colors)\n",
    "colors"
   ]
  },
  {
   "cell_type": "code",
   "execution_count": 14,
   "id": "52a4a233-48f4-4492-b222-4bce1cde7f31",
   "metadata": {},
   "outputs": [
    {
     "data": {
      "text/plain": [
       "2"
      ]
     },
     "execution_count": 14,
     "metadata": {},
     "output_type": "execute_result"
    }
   ],
   "source": [
    "names = [\"Alice\", \"Bob\", \"Charlie\", \"David\", \"Eve\"] \n",
    "names.index(\"Charlie\")"
   ]
  },
  {
   "cell_type": "code",
   "execution_count": 34,
   "id": "9fa640b3-99aa-449b-987a-a11cde0d23a5",
   "metadata": {},
   "outputs": [
    {
     "data": {
      "text/plain": [
       "4"
      ]
     },
     "execution_count": 34,
     "metadata": {},
     "output_type": "execute_result"
    }
   ],
   "source": [
    "nums_tuple = (4, 2, 4, 6, 4, 8, 4, 10)\n",
    "count = nums_tuple.count(4)\n",
    "count"
   ]
  },
  {
   "cell_type": "code",
   "execution_count": 16,
   "id": "cd05c41c-0e48-4356-991e-f7f05a0c2886",
   "metadata": {},
   "outputs": [
    {
     "data": {
      "text/plain": [
       "4"
      ]
     },
     "execution_count": 16,
     "metadata": {},
     "output_type": "execute_result"
    }
   ],
   "source": [
    "nums_tuple = (4, 2, 4, 6, 4, 8, 4, 10)\n",
    "count = 0\n",
    "for i in nums_tuple:\n",
    "    if(i == 4):\n",
    "        count += 1\n",
    "count"
   ]
  },
  {
   "cell_type": "code",
   "execution_count": 17,
   "id": "5da220f4-78de-4aaf-bab2-f11e54fa81e0",
   "metadata": {},
   "outputs": [
    {
     "data": {
      "text/plain": [
       "[50, 20, 30, 40, 10]"
      ]
     },
     "execution_count": 17,
     "metadata": {},
     "output_type": "execute_result"
    }
   ],
   "source": [
    "values = [10, 20, 30, 40, 50]\n",
    "temp = values[0]\n",
    "values[0] = values[-1]\n",
    "values[-1] = temp\n",
    "values"
   ]
  },
  {
   "cell_type": "code",
   "execution_count": 18,
   "id": "bb5da7fc-5d48-4aef-854f-3944332e361e",
   "metadata": {},
   "outputs": [
    {
     "data": {
      "text/plain": [
       "[1, 4, 9, 16, 25, 36, 49, 64, 81]"
      ]
     },
     "execution_count": 18,
     "metadata": {},
     "output_type": "execute_result"
    }
   ],
   "source": [
    "values = []\n",
    "for i in range(1,10):\n",
    "    k = i**2\n",
    "    values.append(k)\n",
    "values"
   ]
  },
  {
   "cell_type": "code",
   "execution_count": 60,
   "id": "bfdfa901-521c-4d84-9b90-30c2e23c11e0",
   "metadata": {},
   "outputs": [],
   "source": [
    "del my_tuple"
   ]
  },
  {
   "cell_type": "code",
   "execution_count": 69,
   "id": "2e5bdc17-d83c-48cf-9d5b-62651ede50eb",
   "metadata": {},
   "outputs": [
    {
     "name": "stdout",
     "output_type": "stream",
     "text": [
      "(5, 4, 3, 2, 1)\n"
     ]
    }
   ],
   "source": [
    "my_tuple = (1, 2, 3, 4, 5)\n",
    "print(tuple(reversed(my_tuple)))"
   ]
  },
  {
   "cell_type": "code",
   "execution_count": 29,
   "id": "12f4a404-870f-4b15-a04b-b27406cab253",
   "metadata": {},
   "outputs": [
    {
     "name": "stdout",
     "output_type": "stream",
     "text": [
      "89\n",
      "12\n"
     ]
    }
   ],
   "source": [
    "data = [23, 45, 67, 12, 89, 34]  \n",
    "print(max(data))\n",
    "print(min(data))"
   ]
  },
  {
   "cell_type": "code",
   "execution_count": 32,
   "id": "8cbb6af0-a79b-4b63-be37-4150716503ee",
   "metadata": {},
   "outputs": [
    {
     "name": "stdout",
     "output_type": "stream",
     "text": [
      "[10, 30, 50, 70]\n"
     ]
    }
   ],
   "source": [
    "nums = [10, 20, 30, 40, 50, 60, 70] \n",
    "print(nums[::2])"
   ]
  },
  {
   "cell_type": "code",
   "execution_count": 35,
   "id": "257800ca-27f7-4262-bd1b-7569793a7663",
   "metadata": {},
   "outputs": [
    {
     "data": {
      "text/plain": [
       "[1, 2, 3, 4, 5, 6, 7, 8, 9]"
      ]
     },
     "execution_count": 35,
     "metadata": {},
     "output_type": "execute_result"
    }
   ],
   "source": [
    "nested_list = [[1, 2, 3], [4, 5, 6], [7, 8, 9]]  \n",
    "nested_list = nested_list[0]+nested_list[1]+nested_list[2]\n",
    "nested_list"
   ]
  },
  {
   "cell_type": "code",
   "execution_count": 38,
   "id": "e4964401-63fa-4410-a956-a3e99d226f41",
   "metadata": {},
   "outputs": [
    {
     "data": {
      "text/plain": [
       "[4, 5, 6]"
      ]
     },
     "execution_count": 38,
     "metadata": {},
     "output_type": "execute_result"
    }
   ],
   "source": [
    "list_a = [1, 2, 3, 4, 5, 6]  \n",
    "list_b = [4, 5, 6, 7, 8, 9]\n",
    "common = []\n",
    "for i in list_a:\n",
    "    for j in list_b:\n",
    "        if(i == j):\n",
    "            common.append(i)\n",
    "common"
   ]
  },
  {
   "cell_type": "code",
   "execution_count": 70,
   "id": "cc469744-aa9d-49f4-8d4e-921dcb74533a",
   "metadata": {},
   "outputs": [],
   "source": [
    "del sorted"
   ]
  },
  {
   "cell_type": "code",
   "execution_count": 71,
   "id": "68724ce2-4d1e-4669-b56c-4837d63d54ec",
   "metadata": {},
   "outputs": [
    {
     "name": "stdout",
     "output_type": "stream",
     "text": [
      "[30, 55, 62, 78, 88, 92]\n"
     ]
    }
   ],
   "source": [
    "scores = [78, 55, 92, 30, 88, 62]\n",
    "print(list(sorted(scores[::-1])))"
   ]
  },
  {
   "cell_type": "code",
   "execution_count": 56,
   "id": "b5a7fd4c-05ff-484b-ba4a-26cd3322c2ea",
   "metadata": {},
   "outputs": [
    {
     "name": "stdout",
     "output_type": "stream",
     "text": [
      "(1, 2, 3, 1, 2, 3, 1, 2, 3)\n"
     ]
    }
   ],
   "source": [
    "my_tuple = (1, 2, 3) \n",
    "print(my_tuple*3)"
   ]
  },
  {
   "cell_type": "code",
   "execution_count": 63,
   "id": "db2f4988-4517-46b1-badb-7ba941060de8",
   "metadata": {},
   "outputs": [
    {
     "data": {
      "text/plain": [
       "[1, 2, 3, 4, 5, 6]"
      ]
     },
     "execution_count": 63,
     "metadata": {},
     "output_type": "execute_result"
    }
   ],
   "source": [
    "numbers = [1, 2, 2, 3, 4, 4, 5, 6, 6]  \n",
    "for i in numbers:\n",
    "    a = numbers.count(i)\n",
    "    if a>1:\n",
    "        numbers.remove(i)\n",
    "numbers"
   ]
  },
  {
   "cell_type": "code",
   "execution_count": 66,
   "id": "d34e0e99-bcda-49c9-b960-ef80429ea59e",
   "metadata": {},
   "outputs": [
    {
     "data": {
      "text/plain": [
       "['Hello', 'World', 'Amazing', 'Python', 'Programming']"
      ]
     },
     "execution_count": 66,
     "metadata": {},
     "output_type": "execute_result"
    }
   ],
   "source": [
    "words = [\"Hello\", \"World\", \"Python\", \"Programming\"]\n",
    "words.insert(2,\"Amazing\")\n",
    "words"
   ]
  },
  {
   "cell_type": "code",
   "execution_count": 68,
   "id": "ea9926df-6f05-444c-8c7b-f616f0c7e06d",
   "metadata": {},
   "outputs": [
    {
     "name": "stdout",
     "output_type": "stream",
     "text": [
      "{'a': 1, 'b': 2, 'c': 3}\n"
     ]
    }
   ],
   "source": [
    "pairs = [(\"a\", 1), (\"b\", 2), (\"c\", 3)]\n",
    "print(dict(pairs))"
   ]
  }
 ],
 "metadata": {
  "kernelspec": {
   "display_name": "Python 3 (ipykernel)",
   "language": "python",
   "name": "python3"
  },
  "language_info": {
   "codemirror_mode": {
    "name": "ipython",
    "version": 3
   },
   "file_extension": ".py",
   "mimetype": "text/x-python",
   "name": "python",
   "nbconvert_exporter": "python",
   "pygments_lexer": "ipython3",
   "version": "3.12.4"
  }
 },
 "nbformat": 4,
 "nbformat_minor": 5
}
