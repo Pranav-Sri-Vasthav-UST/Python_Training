{
 "cells": [
  {
   "cell_type": "code",
   "execution_count": 8,
   "id": "413a8bb9-e3eb-497d-a276-2cbd973b879f",
   "metadata": {},
   "outputs": [
    {
     "data": {
      "text/plain": [
       "{'apple': 3, 'banana': 2, 'orange': 1}"
      ]
     },
     "execution_count": 8,
     "metadata": {},
     "output_type": "execute_result"
    }
   ],
   "source": [
    "sentence = \"apple banana apple orange banana apple\"\n",
    "list_sentence = sentence.split()\n",
    "c_dict = {}\n",
    "for i in list_sentence:\n",
    "    if i in c_dict:\n",
    "        c_dict[i] +=1\n",
    "    else:\n",
    "        c_dict[i] = 1\n",
    "c_dict"
   ]
  },
  {
   "cell_type": "code",
   "execution_count": 3,
   "id": "0e68cb68-e08d-44f3-814e-639d73b72575",
   "metadata": {},
   "outputs": [
    {
     "name": "stdout",
     "output_type": "stream",
     "text": [
      "{1, 2}\n",
      "{5, 6}\n"
     ]
    }
   ],
   "source": [
    "list1 = {1, 2, 3, 4}  \n",
    "list2 = {3, 4, 5, 6}  \n",
    "u_l1 = list1 - list2\n",
    "u_l2 = list2 - list1\n",
    "print(u_l1)\n",
    "print(u_l2)"
   ]
  },
  {
   "cell_type": "code",
   "execution_count": 4,
   "id": "c5bf4f00-82e9-4616-8863-b18e8f14ed75",
   "metadata": {},
   "outputs": [
    {
     "data": {
      "text/plain": [
       "{'a': 10, 'b': 50, 'c': 40}"
      ]
     },
     "execution_count": 4,
     "metadata": {},
     "output_type": "execute_result"
    }
   ],
   "source": [
    "dict1 = {'a': 10, 'b': 20}  \n",
    "dict2 = {'b': 30, 'c': 40} \n",
    "c_dict = {}\n",
    "for i in dict1.keys():\n",
    "    if i in dict2:\n",
    "        c_dict[i] = dict1[i] + dict2[i]\n",
    "    else:\n",
    "        c_dict[i] = dict1[i]\n",
    "\n",
    "for i in dict2.keys():\n",
    "    if i not in dict1:\n",
    "        c_dict[i] = dict2[i]\n",
    "\n",
    "c_dict"
   ]
  },
  {
   "cell_type": "code",
   "execution_count": 8,
   "id": "4918f9d1-fad2-4884-adc2-ea25353a72d0",
   "metadata": {},
   "outputs": [
    {
     "name": "stdout",
     "output_type": "stream",
     "text": [
      "{3, 4}\n"
     ]
    }
   ],
   "source": [
    "set1 = {1, 2, 3, 4}  \n",
    "set2 = {3, 4, 5, 6} \n",
    "print(set1.intersection(set2))"
   ]
  },
  {
   "cell_type": "code",
   "execution_count": 1,
   "id": "07c97726-98c3-45f5-b255-f1cbe64c0e28",
   "metadata": {},
   "outputs": [
    {
     "data": {
      "text/plain": [
       "3"
      ]
     },
     "execution_count": 1,
     "metadata": {},
     "output_type": "execute_result"
    }
   ],
   "source": [
    "numbers = [1, 3, 2, 3, 4, 3, 5, 2, 1, 3] \n",
    "c_dict = {}\n",
    "for i in numbers:\n",
    "    if i in c_dict:\n",
    "        c_dict[i] +=1\n",
    "    else:\n",
    "        c_dict[i] = 1\n",
    "most_frequent_element = max(c_dict, key=c_dict.get)\n",
    "most_frequent_element"
   ]
  },
  {
   "cell_type": "code",
   "execution_count": 17,
   "id": "66673505-b526-4ebb-8a0d-38174fca8b53",
   "metadata": {},
   "outputs": [
    {
     "name": "stdout",
     "output_type": "stream",
     "text": [
      "{1, 2, 3, 4, 5, 6}\n"
     ]
    }
   ],
   "source": [
    "lst = [1, 2, 2, 3, 4, 4, 5, 6, 6, 6] \n",
    "print(set(lst))"
   ]
  },
  {
   "cell_type": "code",
   "execution_count": 14,
   "id": "1628b493-b104-4532-87cb-860ea6be61c9",
   "metadata": {},
   "outputs": [
    {
     "data": {
      "text/plain": [
       "{'Bob', 'Charlie'}"
      ]
     },
     "execution_count": 14,
     "metadata": {},
     "output_type": "execute_result"
    }
   ],
   "source": [
    "course_A = {\"Alice\", \"Bob\", \"Charlie\"}  \n",
    "course_B = {\"Bob\", \"David\", \"Charlie\"}  \n",
    "sa = course_A & course_B\n",
    "\n",
    "sa"
   ]
  },
  {
   "cell_type": "code",
   "execution_count": 16,
   "id": "5a111346-2860-4e26-9271-36f85104b115",
   "metadata": {},
   "outputs": [
    {
     "name": "stdout",
     "output_type": "stream",
     "text": [
      "{1, 2, 3, 4, 5, 6, 7}\n"
     ]
    }
   ],
   "source": [
    "set1 = {1, 2, 3}  \n",
    "set2 = {3, 4, 5}  \n",
    "set3 = {5, 6, 7} \n",
    "print(set1.union(set2.union(set3)))"
   ]
  },
  {
   "cell_type": "code",
   "execution_count": 18,
   "id": "79581652-4c3e-4d79-afa6-84012a956c18",
   "metadata": {},
   "outputs": [
    {
     "data": {
      "text/plain": [
       "{1: 'a', 2: 'b', 3: 'c'}"
      ]
     },
     "execution_count": 18,
     "metadata": {},
     "output_type": "execute_result"
    }
   ],
   "source": [
    "original_dict = {'a': 1, 'b': 2, 'c': 3}\n",
    "original_dict = dict(zip(original_dict.values(), original_dict.keys()))\n",
    "original_dict"
   ]
  },
  {
   "cell_type": "code",
   "execution_count": 21,
   "id": "06fc6019-715e-4982-a22b-64eef073e866",
   "metadata": {},
   "outputs": [
    {
     "name": "stdout",
     "output_type": "stream",
     "text": [
      "True\n"
     ]
    }
   ],
   "source": [
    "word1 = \"listen\"  \n",
    "word2 = \"silent\"\n",
    "se1 = set(word1)\n",
    "se2 = set(word2)\n",
    "print(se1 == se2)"
   ]
  }
 ],
 "metadata": {
  "kernelspec": {
   "display_name": "Python 3 (ipykernel)",
   "language": "python",
   "name": "python3"
  },
  "language_info": {
   "codemirror_mode": {
    "name": "ipython",
    "version": 3
   },
   "file_extension": ".py",
   "mimetype": "text/x-python",
   "name": "python",
   "nbconvert_exporter": "python",
   "pygments_lexer": "ipython3",
   "version": "3.12.4"
  }
 },
 "nbformat": 4,
 "nbformat_minor": 5
}
