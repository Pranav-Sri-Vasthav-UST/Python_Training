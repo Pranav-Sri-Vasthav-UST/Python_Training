{
 "cells": [
  {
   "cell_type": "code",
   "execution_count": 3,
   "metadata": {},
   "outputs": [
    {
     "name": "stdout",
     "output_type": "stream",
     "text": [
      "I'm thinking of a number between 1 and 100. You have 10 tries.\n",
      "Way too low!\n",
      "Way too high!\n",
      "A bit lower!\n",
      "A bit lower!\n",
      "Way too high!\n",
      "Way too high!\n",
      "A bit lower!\n",
      "Way too high!\n",
      "A bit lower!\n",
      "A bit lower!\n",
      "Out of tries! The number was 61. Better luck next time.\n"
     ]
    }
   ],
   "source": [
    "import random\n",
    "\n",
    "class G:\n",
    "    def __init__(self, lb=1, ub=100, ma=10):\n",
    "        self.lb = lb\n",
    "        self.ub = ub\n",
    "        self.ma = ma\n",
    "        self.s = random.randint(lb, ub)\n",
    "        self.a = 0 \n",
    "        self.g_over = False\n",
    "\n",
    "    def get_g(self):\n",
    "        while True:\n",
    "            try:\n",
    "                g = int(input(f\"Pick a number ({self.lb}-{self.ub}): \"))\n",
    "                if self.lb <= g <= self.ub:\n",
    "                    return g\n",
    "                else:\n",
    "                    print(f\"Stay in range ({self.lb}-{self.ub}).\")\n",
    "            except ValueError:\n",
    "                print(\"That's not a number!\")\n",
    "\n",
    "    def check_g(self, g):\n",
    "        d = abs(self.s - g)\n",
    "        if g == self.s:\n",
    "            print(\"You got it!\")\n",
    "            return \"win\"\n",
    "        elif g < self.s:\n",
    "            if d <= 3:\n",
    "                print(\"So close, a bit higher!\")\n",
    "                return \"low-near\"\n",
    "            elif d <= 10:\n",
    "                print(\"A bit higher!\")\n",
    "                return \"low\"\n",
    "            else:\n",
    "                print(\"Way too low!\")\n",
    "                return \"lower\"\n",
    "        else:\n",
    "            if d <= 3:\n",
    "                print(\"So close, a bit lower!\")\n",
    "                return \"high-near\"\n",
    "            elif d <= 10:\n",
    "                print(\"A bit lower!\")\n",
    "                return \"high\"\n",
    "            else:\n",
    "                print(\"Way too high!\")\n",
    "                return \"higher\"\n",
    "\n",
    "    def play(self):\n",
    "        print(f\"I'm thinking of a number between {self.lb} and {self.ub}. You have {self.ma} tries.\")\n",
    "        while not self.g_over and self.a < self.ma:\n",
    "            g = self.get_g()\n",
    "            self.a += 1\n",
    "\n",
    "            result = self.check_g(g)\n",
    "            if result == \"win\":\n",
    "                print(f\"Great job! You found it in {self.a}/{self.ma} tries.\")\n",
    "                if self.a <= 4:\n",
    "                    print(\"Amazing skills!\")\n",
    "                self.g_over = True\n",
    "            elif self.a == self.ma:\n",
    "                print(f\"Out of tries! The number was {self.s}. Better luck next time.\")\n",
    "                self.g_over = True\n",
    "\n",
    "if __name__ == \"__main__\":\n",
    "    game = G()\n",
    "    game.play()"
   ]
  },
  {
   "cell_type": "code",
   "execution_count": 4,
   "metadata": {},
   "outputs": [
    {
     "name": "stdout",
     "output_type": "stream",
     "text": [
      "(4, 6)\n",
      "(2, 2)\n",
      "True\n"
     ]
    }
   ],
   "source": [
    "class Vector2D:\n",
    "    def __init__(self, x, y):\n",
    "        self.x = x\n",
    "        self.y = y\n",
    "\n",
    "    def __add__(self, other):\n",
    "        return Vector2D(self.x + other.x, self.y + other.y)\n",
    "\n",
    "    def __sub__(self, other):\n",
    "        return Vector2D(self.x - other.x, self.y - other.y)\n",
    "\n",
    "    def __eq__(self, other):\n",
    "        return self.x == other.x and self.y == other.y\n",
    "\n",
    "    def __str__(self):\n",
    "        return f\"({self.x}, {self.y})\"\n",
    "\n",
    "v1 = Vector2D(3, 4)\n",
    "v2 = Vector2D(1, 2)\n",
    "v3 = v1 + v2\n",
    "v4 = v1 - v2\n",
    "\n",
    "print(v3)\n",
    "print(v4)\n",
    "print(v3 == Vector2D(4, 6))\n"
   ]
  },
  {
   "cell_type": "code",
   "execution_count": 5,
   "metadata": {},
   "outputs": [
    {
     "name": "stdout",
     "output_type": "stream",
     "text": [
      "02:16:10\n",
      "True\n"
     ]
    }
   ],
   "source": [
    "class Time:\n",
    "    def __init__(self, hours=0, minutes=0, seconds=0):\n",
    "        self.hours = hours\n",
    "        self.minutes = minutes\n",
    "        self.seconds = seconds\n",
    "        self.normalize_time()\n",
    "\n",
    "    def normalize_time(self):\n",
    "        total_seconds = self.hours * 3600 + self.minutes * 60 + self.seconds\n",
    "        self.hours = total_seconds // 3600\n",
    "        total_seconds %= 3600\n",
    "        self.minutes = total_seconds // 60\n",
    "        self.seconds = total_seconds % 60\n",
    "\n",
    "    def __add__(self, other):\n",
    "        return Time(\n",
    "            self.hours + other.hours,\n",
    "            self.minutes + other.minutes,\n",
    "            self.seconds + other.seconds,\n",
    "        )\n",
    "\n",
    "    def __gt__(self, other):\n",
    "        return (\n",
    "            (self.hours * 3600 + self.minutes * 60 + self.seconds)\n",
    "            > (other.hours * 3600 + other.minutes * 60 + other.seconds)\n",
    "        )\n",
    "\n",
    "    def __str__(self):\n",
    "        return f\"{self.hours:02}:{self.minutes:02}:{self.seconds:02}\"\n",
    "\n",
    "t1 = Time(1, 45, 50)\n",
    "t2 = Time(0, 30, 20)\n",
    "t3 = t1 + t2\n",
    "\n",
    "print(t3)\n",
    "print(t1 > t2)\n"
   ]
  }
 ],
 "metadata": {
  "kernelspec": {
   "display_name": "Python 3",
   "language": "python",
   "name": "python3"
  },
  "language_info": {
   "codemirror_mode": {
    "name": "ipython",
    "version": 3
   },
   "file_extension": ".py",
   "mimetype": "text/x-python",
   "name": "python",
   "nbconvert_exporter": "python",
   "pygments_lexer": "ipython3",
   "version": "3.9.13"
  },
  "orig_nbformat": 4
 },
 "nbformat": 4,
 "nbformat_minor": 2
}
