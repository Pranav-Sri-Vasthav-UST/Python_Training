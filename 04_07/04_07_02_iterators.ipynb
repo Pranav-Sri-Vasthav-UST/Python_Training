{
 "cells": [
  {
   "cell_type": "code",
   "execution_count": 3,
   "metadata": {},
   "outputs": [],
   "source": [
    "import math\n",
    " \n",
    "class Circle:\n",
    "    def __init__(self, radius):\n",
    "        self._radius = radius\n",
    " \n",
    "    # Property\n",
    "    @property\n",
    "    def circumference(self):\n",
    "        return 2 * math.pi * self._radius\n",
    " \n",
    "    # Class Method\n",
    "    @classmethod\n",
    "    def from_diameter(cls, diameter):\n",
    "        if diameter <= 0:\n",
    "            raise ValueError(\"Diameter must be a positive number.\")\n",
    "        radius = diameter / 2\n",
    "        return cls(radius)\n",
    " \n",
    "    # Static Method\n",
    "    @staticmethod\n",
    "    def is_valid_radius(value):\n",
    "        return isinstance(value, (int, float)) and value > 0"
   ]
  },
  {
   "cell_type": "code",
   "execution_count": 4,
   "metadata": {},
   "outputs": [
    {
     "name": "stdout",
     "output_type": "stream",
     "text": [
      "Circumference of circle1: 31.42\n",
      "Circumference of circle2: 31.42\n",
      "True\n",
      "False\n",
      "False\n"
     ]
    }
   ],
   "source": [
    "circle1 = Circle(5)\n",
    "print(f\"Circumference of circle1: {circle1.circumference:.2f}\")\n",
    " \n",
    "circle2 = Circle.from_diameter(10)\n",
    "print(f\"Circumference of circle2: {circle2.circumference:.2f}\")  \n",
    " \n",
    "print(Circle.is_valid_radius(7))    \n",
    "print(Circle.is_valid_radius(-3))    \n",
    "print(Circle.is_valid_radius(\"abc\"))  "
   ]
  },
  {
   "cell_type": "code",
   "execution_count": 7,
   "metadata": {},
   "outputs": [],
   "source": [
    "class BankAccount:\n",
    "    def __init__(self, name, balance):\n",
    "        self.name = name\n",
    "        self._balance = balance\n",
    " \n",
    "    # Property\n",
    "    @property\n",
    "    def balance(self):\n",
    "        return f\"Your balance is ₹{self._balance}\"\n",
    " \n",
    "    # Class Method\n",
    "    @classmethod\n",
    "    def from_dict(cls, account_details):\n",
    "        name = account_details.get(\"name\")\n",
    "        balance = account_details.get(\"balance\", 0)\n",
    "        return cls(name, balance)\n",
    " \n",
    "    # Static Method\n",
    "    @staticmethod\n",
    "    def is_valid_withdrawal(amount, current_balance):\n",
    "        return isinstance(amount, (int, float)) and amount > 0 and amount <= current_balance\n",
    " \n",
    "    # Method to withdraw money\n",
    "    def withdraw(self, amount):\n",
    "        if self.is_valid_withdrawal(amount, self._balance):\n",
    "            self._balance -= amount\n",
    "            print(f\"Withdrawal successful! New balance: ₹{self._balance}\")\n",
    "        else:\n",
    "            print(\"Invalid withdrawal amount!\")"
   ]
  },
  {
   "cell_type": "code",
   "execution_count": 9,
   "metadata": {},
   "outputs": [
    {
     "name": "stdout",
     "output_type": "stream",
     "text": [
      "Your balance is ₹10000\n",
      "True\n",
      "False\n",
      "Withdrawal successful! New balance: ₹7000\n",
      "Your balance is ₹7000\n",
      "Invalid withdrawal amount!\n"
     ]
    }
   ],
   "source": [
    "account_data = {\"name\": \"Alice\", \"balance\": 10000}\n",
    "account = BankAccount.from_dict(account_data)\n",
    " \n",
    "print(account.balance)  \n",
    " \n",
    "print(BankAccount.is_valid_withdrawal(5000, account._balance)) \n",
    "print(BankAccount.is_valid_withdrawal(15000, account._balance))\n",
    " \n",
    "account.withdraw(3000)   \n",
    "print(account.balance)   \n",
    " \n",
    "account.withdraw(8000) "
   ]
  },
  {
   "cell_type": "code",
   "execution_count": null,
   "metadata": {},
   "outputs": [],
   "source": []
  }
 ],
 "metadata": {
  "kernelspec": {
   "display_name": "Python 3",
   "language": "python",
   "name": "python3"
  },
  "language_info": {
   "codemirror_mode": {
    "name": "ipython",
    "version": 3
   },
   "file_extension": ".py",
   "mimetype": "text/x-python",
   "name": "python",
   "nbconvert_exporter": "python",
   "pygments_lexer": "ipython3",
   "version": "3.9.13"
  },
  "orig_nbformat": 4
 },
 "nbformat": 4,
 "nbformat_minor": 2
}
