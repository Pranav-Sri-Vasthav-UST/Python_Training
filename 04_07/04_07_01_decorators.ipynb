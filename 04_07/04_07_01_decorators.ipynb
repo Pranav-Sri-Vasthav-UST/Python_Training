{
 "cells": [
  {
   "cell_type": "code",
   "execution_count": 1,
   "metadata": {},
   "outputs": [
    {
     "name": "stdout",
     "output_type": "stream",
     "text": [
      "Calling function: greet\n",
      "Hello, 'Alice'. How are you today!\n",
      "Arguments: 'Alice'\n"
     ]
    }
   ],
   "source": [
    "def log_function(func):\n",
    "    def wrapper(*args):\n",
    "        print(f\"Calling function: {func.__name__}\")\n",
    "        func(', '.join(map(repr, args)))\n",
    "        print(f\"Arguments: {', '.join(map(repr, args))}\")\n",
    "    return wrapper\n",
    " \n",
    "@log_function\n",
    "def greet(name):\n",
    "    print(f\"Hello, {name}. How are you today!\")\n",
    " \n",
    " \n",
    "greet(\"Alice\")"
   ]
  },
  {
   "cell_type": "code",
   "execution_count": 2,
   "metadata": {},
   "outputs": [
    {
     "name": "stdout",
     "output_type": "stream",
     "text": [
      "34\n"
     ]
    }
   ],
   "source": [
    "def double_result(func):\n",
    "    def wrapper(*args):\n",
    "        result = func(*args)\n",
    "        return result * 2\n",
    "    return wrapper\n",
    " \n",
    "@double_result\n",
    "def add(x, y):\n",
    "    return x + y\n",
    " \n",
    "print(add(3, 14))"
   ]
  },
  {
   "cell_type": "code",
   "execution_count": 6,
   "metadata": {},
   "outputs": [
    {
     "name": "stdout",
     "output_type": "stream",
     "text": [
      "Done!\n",
      "Function 'slow_function' executed in 1.01 seconds\n"
     ]
    }
   ],
   "source": [
    "import time\n",
    " \n",
    "def timer(func):\n",
    "    def wrapper(*args):\n",
    "        start_time = time.time()  \n",
    "        result = func(*args)  \n",
    "        end_time = time.time()   \n",
    " \n",
    "        execution_time = end_time - start_time\n",
    "        print(f\"Function '{func.__name__}' executed in {execution_time:.2f} seconds\")\n",
    "        return result\n",
    "    return wrapper\n",
    " \n",
    "@timer\n",
    "def slow_function():\n",
    "    time.sleep(1)\n",
    "    print(\"Done!\")\n",
    "\n",
    "slow_function()"
   ]
  },
  {
   "cell_type": "code",
   "execution_count": null,
   "metadata": {},
   "outputs": [],
   "source": []
  }
 ],
 "metadata": {
  "kernelspec": {
   "display_name": "Python 3",
   "language": "python",
   "name": "python3"
  },
  "language_info": {
   "codemirror_mode": {
    "name": "ipython",
    "version": 3
   },
   "file_extension": ".py",
   "mimetype": "text/x-python",
   "name": "python",
   "nbconvert_exporter": "python",
   "pygments_lexer": "ipython3",
   "version": "3.9.13"
  },
  "orig_nbformat": 4
 },
 "nbformat": 4,
 "nbformat_minor": 2
}
