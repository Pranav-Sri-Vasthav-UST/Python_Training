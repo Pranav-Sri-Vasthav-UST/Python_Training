{
 "cells": [
  {
   "cell_type": "code",
   "execution_count": 17,
   "id": "6d1c1a4c-8cef-47c4-a3ed-210ca3c76141",
   "metadata": {},
   "outputs": [
    {
     "data": {
      "text/plain": [
       "6"
      ]
     },
     "execution_count": 17,
     "metadata": {},
     "output_type": "execute_result"
    }
   ],
   "source": [
    "# Write a function to return the sum of individual digits \n",
    "# Example: sum_individual(123) -> 6\n",
    "\n",
    "def sum_individual(n):\n",
    "    return sum(int(digit) for digit in str(n))\n",
    "sum_individual(123)"
   ]
  },
  {
   "cell_type": "code",
   "execution_count": 14,
   "id": "b01dd235-49b9-4c6d-9af0-9c31aa6a8844",
   "metadata": {},
   "outputs": [
    {
     "data": {
      "text/plain": [
       "[1, 4, 9, 16, 25, 36, 49, 64, 81, 100]"
      ]
     },
     "execution_count": 14,
     "metadata": {},
     "output_type": "execute_result"
    }
   ],
   "source": [
    "# Create a list of squares of numbers between 1 and 10\n",
    "# Use map()\n",
    "\n",
    "f1 = map(lambda x: x**2, range(1,11))\n",
    "list(f1)"
   ]
  },
  {
   "cell_type": "code",
   "execution_count": 15,
   "id": "50709f8b-2531-4577-a75a-23109169dab1",
   "metadata": {},
   "outputs": [
    {
     "data": {
      "text/plain": [
       "[119,\n",
       " 128,\n",
       " 137,\n",
       " 146,\n",
       " 155,\n",
       " 164,\n",
       " 173,\n",
       " 182,\n",
       " 191,\n",
       " 209,\n",
       " 218,\n",
       " 227,\n",
       " 236,\n",
       " 245,\n",
       " 254,\n",
       " 263,\n",
       " 272,\n",
       " 281,\n",
       " 290,\n",
       " 308,\n",
       " 317,\n",
       " 326,\n",
       " 335,\n",
       " 344,\n",
       " 353,\n",
       " 362,\n",
       " 371,\n",
       " 380,\n",
       " 407,\n",
       " 416,\n",
       " 425,\n",
       " 434,\n",
       " 443,\n",
       " 452,\n",
       " 461,\n",
       " 470,\n",
       " 506,\n",
       " 515,\n",
       " 524,\n",
       " 533,\n",
       " 542,\n",
       " 551,\n",
       " 560,\n",
       " 605,\n",
       " 614,\n",
       " 623,\n",
       " 632,\n",
       " 641,\n",
       " 650,\n",
       " 704,\n",
       " 713,\n",
       " 722,\n",
       " 731,\n",
       " 740,\n",
       " 803,\n",
       " 812,\n",
       " 821,\n",
       " 830,\n",
       " 902,\n",
       " 911,\n",
       " 920]"
      ]
     },
     "execution_count": 15,
     "metadata": {},
     "output_type": "execute_result"
    }
   ],
   "source": [
    "# List all three digit numbers between 100 and 1000 whose sum of individual digits \n",
    "# equate to 11. Use filter()\n",
    "\n",
    "f2 = filter(lambda y:sum(int(digit) for digit in str(y)) == 11, range(100,1000))\n",
    "list(f2)"
   ]
  },
  {
   "cell_type": "code",
   "execution_count": 16,
   "id": "af1e294e-fe4a-4af3-aa2e-d5ec677b3603",
   "metadata": {},
   "outputs": [
    {
     "data": {
      "text/plain": [
       "['yellow', 'green', 'blue', 'red']"
      ]
     },
     "execution_count": 16,
     "metadata": {},
     "output_type": "execute_result"
    }
   ],
   "source": [
    "# Given L = [\"red\", \"green\", \"blue\", \"yellow\"]\n",
    "# Sort the list in descending order with respect to the last charecter of the element\n",
    "# output -> ['yellow', 'green', 'blue', 'red']\n",
    "\n",
    "L = [\"red\", \"green\", \"blue\", \"yellow\"]\n",
    "L.sort(key = lambda x: x[-1], reverse = True)\n",
    "L"
   ]
  },
  {
   "cell_type": "code",
   "execution_count": null,
   "id": "4d5da560-33cc-40f0-9050-474505bb381a",
   "metadata": {},
   "outputs": [],
   "source": []
  }
 ],
 "metadata": {
  "kernelspec": {
   "display_name": "Python 3 (ipykernel)",
   "language": "python",
   "name": "python3"
  },
  "language_info": {
   "codemirror_mode": {
    "name": "ipython",
    "version": 3
   },
   "file_extension": ".py",
   "mimetype": "text/x-python",
   "name": "python",
   "nbconvert_exporter": "python",
   "pygments_lexer": "ipython3",
   "version": "3.12.4"
  }
 },
 "nbformat": 4,
 "nbformat_minor": 5
}
