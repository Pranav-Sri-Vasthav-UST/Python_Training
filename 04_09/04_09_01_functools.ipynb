{
 "cells": [
  {
   "cell_type": "code",
   "execution_count": 1,
   "metadata": {},
   "outputs": [],
   "source": [
    "from functools import total_ordering\n",
    "\n",
    "@total_ordering\n",
    "class Product:\n",
    "    def __init__(self, name, rating):\n",
    "        self.name = name\n",
    "        self.rating = rating\n",
    "    \n",
    "    def __eq__(self, other):\n",
    "        if not isinstance(other, Product):\n",
    "            return NotImplemented\n",
    "        return self.rating == other.rating\n",
    "    \n",
    "    def __lt__(self, other):\n",
    "        if not isinstance(other, Product):\n",
    "            return NotImplemented\n",
    "        return self.rating < other.rating\n",
    "    \n",
    "    def __repr__(self):\n",
    "        return f\"{self.name}({self.rating})\""
   ]
  },
  {
   "cell_type": "code",
   "execution_count": 2,
   "metadata": {},
   "outputs": [],
   "source": [
    "p1 = Product(\"Laptop\", 4.5)\n",
    "p2 = Product(\"Tablet\", 4.7)\n",
    "p3 = Product(\"Phone\", 4.5)\n",
    "p4 = Product(\"Monitor\", 4.2)\n",
    "\n",
    "sorted_products = sorted([p1, p2, p3, p4])"
   ]
  },
  {
   "cell_type": "code",
   "execution_count": 5,
   "metadata": {},
   "outputs": [
    {
     "name": "stdout",
     "output_type": "stream",
     "text": [
      "Sorted Products: [Monitor(4.2), Laptop(4.5), Phone(4.5), Tablet(4.7)]\n",
      "p1 == p3: True\n",
      "p1 < p2: True\n",
      "p2 >= p4: True\n"
     ]
    }
   ],
   "source": [
    "print(\"Sorted Products:\", sorted_products)\n",
    "print(\"p1 == p3:\", p1 == p3)\n",
    "print(\"p1 < p2:\", p1 < p2)\n",
    "print(\"p2 >= p4:\", p2 >= p4)"
   ]
  },
  {
   "cell_type": "code",
   "execution_count": null,
   "metadata": {},
   "outputs": [],
   "source": []
  }
 ],
 "metadata": {
  "kernelspec": {
   "display_name": "Python 3",
   "language": "python",
   "name": "python3"
  },
  "language_info": {
   "codemirror_mode": {
    "name": "ipython",
    "version": 3
   },
   "file_extension": ".py",
   "mimetype": "text/x-python",
   "name": "python",
   "nbconvert_exporter": "python",
   "pygments_lexer": "ipython3",
   "version": "3.9.13"
  },
  "orig_nbformat": 4
 },
 "nbformat": 4,
 "nbformat_minor": 2
}
