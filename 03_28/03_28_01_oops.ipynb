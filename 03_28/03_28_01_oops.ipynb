{
 "cells": [
  {
   "cell_type": "code",
   "execution_count": 1,
   "metadata": {},
   "outputs": [
    {
     "name": "stdout",
     "output_type": "stream",
     "text": [
      "\n",
      "Employee Information\n",
      "------------------------------------\n",
      "Name           | Pranav\n",
      "Age            | 30\n",
      "Company        | UST\n",
      "Gross Salary   | 50000\n",
      "Tax Rate (%)   | 20\n",
      "Net Salary     | 40000.0\n",
      "------------------------------------\n",
      "\n",
      "Employee Information\n",
      "------------------------------------\n",
      "Name           | Pranav\n",
      "Age            | 30\n",
      "Company        | UST\n",
      "Gross Salary   | 60000\n",
      "Tax Rate (%)   | 25\n",
      "Net Salary     | 45000.0\n",
      "------------------------------------\n"
     ]
    }
   ],
   "source": [
    "class Employee:\n",
    "    def __init__(self, name, age, company, gross_salary, tax_rate):\n",
    "        self.name = name\n",
    "        self.age = age\n",
    "        self.company = company\n",
    "        self.gross_salary = gross_salary\n",
    "        self.tax_rate = tax_rate\n",
    "        self.net_salary = 0 \n",
    "\n",
    "    def calculate_net_salary(self):\n",
    "        self.net_salary = self.gross_salary * (1 - self.tax_rate / 100)\n",
    "        return self.net_salary\n",
    "\n",
    "    def set_gross_salary(self, gross_salary):\n",
    "        self.gross_salary = gross_salary\n",
    "\n",
    "    def set_tax_rate(self, tax_rate):\n",
    "        self.tax_rate = tax_rate\n",
    "\n",
    "    def print_information(self):\n",
    "        print(\"\\nEmployee Information\")\n",
    "        print(\"------------------------------------\")\n",
    "        print(f\"Name           | {self.name}\")\n",
    "        print(f\"Age            | {self.age}\")\n",
    "        print(f\"Company        | {self.company}\")\n",
    "        print(f\"Gross Salary   | {self.gross_salary}\")\n",
    "        print(f\"Tax Rate (%)   | {self.tax_rate}\")\n",
    "        print(f\"Net Salary     | {self.calculate_net_salary()}\")\n",
    "        print(\"------------------------------------\")\n",
    "\n",
    "\n",
    "if __name__ == \"__main__\":\n",
    "    emp = Employee(\"Pranav\", 23, \"UST\", 50000, 20)\n",
    "\n",
    "    emp.print_information()\n",
    "    emp.set_gross_salary(60000)\n",
    "    emp.set_tax_rate(25)\n",
    "    emp.print_information()\n"
   ]
  }
 ],
 "metadata": {
  "kernelspec": {
   "display_name": "Python 3",
   "language": "python",
   "name": "python3"
  },
  "language_info": {
   "codemirror_mode": {
    "name": "ipython",
    "version": 3
   },
   "file_extension": ".py",
   "mimetype": "text/x-python",
   "name": "python",
   "nbconvert_exporter": "python",
   "pygments_lexer": "ipython3",
   "version": "3.9.13"
  },
  "orig_nbformat": 4
 },
 "nbformat": 4,
 "nbformat_minor": 2
}
