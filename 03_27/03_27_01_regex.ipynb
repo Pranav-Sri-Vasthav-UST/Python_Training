{
 "cells": [
  {
   "cell_type": "code",
   "execution_count": 2,
   "metadata": {},
   "outputs": [],
   "source": [
    "import re"
   ]
  },
  {
   "cell_type": "code",
   "execution_count": 1,
   "metadata": {},
   "outputs": [
    {
     "name": "stdout",
     "output_type": "stream",
     "text": [
      "['+1.234', '-67.87', '1.234']\n"
     ]
    }
   ],
   "source": [
    "text = \"This statement contains +1.234 floating -67.87 point 1.234 number\"\n",
    "result = re.findall(r\"[-+]?\\d*\\.\\d+\", text)\n",
    "print(result)"
   ]
  },
  {
   "cell_type": "code",
   "execution_count": 3,
   "metadata": {},
   "outputs": [
    {
     "name": "stdout",
     "output_type": "stream",
     "text": [
      "['support@example.com']\n"
     ]
    }
   ],
   "source": [
    "text = \"Contact us at support@example.com for more details\"\n",
    "result = re.findall(r\"[a-zA-Z0-9._%+-]+@[a-zA-Z0-9.-]+\\.[a-zA-Z]{2,}\", text)\n",
    "print(result)\n"
   ]
  },
  {
   "cell_type": "code",
   "execution_count": 4,
   "metadata": {},
   "outputs": [
    {
     "name": "stdout",
     "output_type": "stream",
     "text": [
      "['2025-03-27']\n"
     ]
    }
   ],
   "source": [
    "text = \"Today's date is 2025-03-27\"\n",
    "result = re.findall(r\"\\d{4}-\\d{2}-\\d{2}\", text)\n",
    "print(result)"
   ]
  },
  {
   "cell_type": "code",
   "execution_count": 5,
   "metadata": {},
   "outputs": [
    {
     "name": "stdout",
     "output_type": "stream",
     "text": [
      "['little', 'kitten', 'running', 'across', 'street']\n"
     ]
    }
   ],
   "source": [
    "text = \"I saw a little kitten running across the street\"\n",
    "result = re.findall(r\"\\b\\w*(\\w)\\1\\w*\\b\", text)\n",
    "words_with_double_letters = [word for word in text.split() if re.search(r\"\\b\\w*(\\w)\\1\\w*\\b\", word)]\n",
    "print(words_with_double_letters)"
   ]
  },
  {
   "cell_type": "code",
   "execution_count": 6,
   "metadata": {},
   "outputs": [
    {
     "name": "stdout",
     "output_type": "stream",
     "text": [
      "['(123) 456-7890', '987-654-3210']\n"
     ]
    }
   ],
   "source": [
    "text = \"My phone numbers are (123) 456-7890 and 987-654-3210\"\n",
    "result = re.findall(r\"\\(?\\d{3}\\)?[-.\\s]?\\d{3}[-.\\s]?\\d{4}\", text)\n",
    "print(result)"
   ]
  },
  {
   "cell_type": "code",
   "execution_count": 7,
   "metadata": {},
   "outputs": [
    {
     "name": "stdout",
     "output_type": "stream",
     "text": [
      "['#Python', '#AI']\n"
     ]
    }
   ],
   "source": [
    "text = \"Loving the #Python and #AI vibes today!\"\n",
    "result = re.findall(r\"#\\w+\", text)\n",
    "print(result)"
   ]
  },
  {
   "cell_type": "code",
   "execution_count": 8,
   "metadata": {},
   "outputs": [
    {
     "name": "stdout",
     "output_type": "stream",
     "text": [
      "['98765', '54321']\n"
     ]
    }
   ],
   "source": [
    "text = \"Order number: 98765, Confirmation code: 54321\"\n",
    "result = re.findall(r\"\\d+\", text)\n",
    "print(result)"
   ]
  },
  {
   "cell_type": "code",
   "execution_count": 9,
   "metadata": {},
   "outputs": [
    {
     "name": "stdout",
     "output_type": "stream",
     "text": [
      "['Alice', 'Bob', 'New', 'York', 'Conference']\n"
     ]
    }
   ],
   "source": [
    "text = \"Alice and Bob went to New York for a Conference\"\n",
    "result = re.findall(r\"\\b[A-Z][a-z]*\\b\", text)\n",
    "print(result)"
   ]
  },
  {
   "cell_type": "code",
   "execution_count": 10,
   "metadata": {},
   "outputs": [
    {
     "name": "stdout",
     "output_type": "stream",
     "text": [
      "['example.com', 'test.org']\n"
     ]
    }
   ],
   "source": [
    "\n",
    "text = \"Visit https://www.example.com or http://test.org for info\"\n",
    "result = re.findall(r\"https?://(?:www\\.)?([a-zA-Z0-9.-]+)\", text)\n",
    "print(result)"
   ]
  },
  {
   "cell_type": "code",
   "execution_count": 11,
   "metadata": {},
   "outputs": [
    {
     "name": "stdout",
     "output_type": "stream",
     "text": [
      "['is', 'test', 'repeated']\n"
     ]
    }
   ],
   "source": [
    "text = \"This is is a test test to find repeated repeated words\"\n",
    "result = re.findall(r\"\\b(\\w+)\\s+\\1\\b\", text)\n",
    "print(result)"
   ]
  },
  {
   "cell_type": "code",
   "execution_count": 13,
   "metadata": {},
   "outputs": [
    {
     "name": "stdout",
     "output_type": "stream",
     "text": [
      "['$59.99', '€10.50']\n"
     ]
    }
   ],
   "source": [
    "text = \"The product costs $59.99 and the discount is €10.50\"\n",
    "result = re.findall(r\"[€$£]\\d+(?:\\.\\d+)?\", text)\n",
    "print(result)"
   ]
  },
  {
   "cell_type": "code",
   "execution_count": 14,
   "metadata": {},
   "outputs": [
    {
     "name": "stdout",
     "output_type": "stream",
     "text": [
      "['<div>', '</div>', '<p>', '</p>']\n"
     ]
    }
   ],
   "source": [
    "text = \"<div>Welcome</div> <p>This is a paragraph.</p>\"\n",
    "result = re.findall(r\"<[^>]+>\", text)\n",
    "print(result)"
   ]
  },
  {
   "cell_type": "code",
   "execution_count": 18,
   "metadata": {},
   "outputs": [
    {
     "name": "stdout",
     "output_type": "stream",
     "text": [
      "['1.']\n"
     ]
    }
   ],
   "source": [
    "\n",
    "text = \"Valid IP: 192.168.1.1, Invalid IP: 999.999.999.999\"\n",
    "result = re.findall(r\"\\b((25[0-5]|2[0-4]\\d|1\\d{2}|\\d{1,2})\\.){3}(25[0-5]|2[0-4]\\d|1\\d{2}|\\d{1,2})\\b\", text)\n",
    "print([match[0] for match in result])"
   ]
  },
  {
   "cell_type": "code",
   "execution_count": 16,
   "metadata": {},
   "outputs": [
    {
     "name": "stdout",
     "output_type": "stream",
     "text": [
      "['Running', 'swimming', 'playing']\n"
     ]
    }
   ],
   "source": [
    "text = \"Running, swimming, and playing are fun activities\"\n",
    "result = re.findall(r\"\\b\\w+ing\\b\", text)\n",
    "print(result)"
   ]
  },
  {
   "cell_type": "code",
   "execution_count": 17,
   "metadata": {},
   "outputs": [
    {
     "name": "stdout",
     "output_type": "stream",
     "text": [
      "['Do you know the answer?', ' Are you sure?']\n"
     ]
    }
   ],
   "source": [
    "text = \"Do you know the answer? Let's find out. Are you sure?\"\n",
    "result = re.findall(r\"[^.!?]*\\?\", text)\n",
    "print(result)"
   ]
  },
  {
   "cell_type": "code",
   "execution_count": 24,
   "metadata": {},
   "outputs": [
    {
     "name": "stdout",
     "output_type": "stream",
     "text": [
      "Hex Color Codes: #FF5733, #00FF00\n"
     ]
    }
   ],
   "source": [
    "text = \"Background color is #FF5733 and text color is #00FF00\"\n",
    "hex_color_codes = re.findall(r'#[0-9A-Fa-f]{6}', text)\n",
    "print(f'Hex Color Codes: {\", \".join(hex_color_codes)}')"
   ]
  },
  {
   "cell_type": "code",
   "execution_count": 25,
   "metadata": {},
   "outputs": [
    {
     "name": "stdout",
     "output_type": "stream",
     "text": [
      "['ChatGPT', 'OpenAI']\n"
     ]
    }
   ],
   "source": [
    "text = \"Follow us @ChatGPT and @OpenAI\"\n",
    "usernames = re.findall(r'@([A-Za-z0-9_]+)', text)\n",
    "print(usernames)"
   ]
  },
  {
   "cell_type": "code",
   "execution_count": 26,
   "metadata": {},
   "outputs": [
    {
     "name": "stdout",
     "output_type": "stream",
     "text": [
      "Valid password\n"
     ]
    }
   ],
   "source": [
    "text = \"My password is Str0ngP@ss!\"\n",
    "password = \"Str0ngP@ss!\"\n",
    "pattern = r\"^(?=.*[a-z])(?=.*[A-Z])(?=.*\\d)(?=.*[!@#$%^&*(),.?\\\":{}|<>])[A-Za-z\\d!@#$%^&*(),.?\\\":{}|<>]{8,}$\"\n",
    "\n",
    "if re.match(pattern, password):\n",
    "    print(\"Valid password\")\n",
    "else:\n",
    "    print(\"Invalid password\")\n"
   ]
  },
  {
   "cell_type": "code",
   "execution_count": 31,
   "metadata": {},
   "outputs": [
    {
     "name": "stdout",
     "output_type": "stream",
     "text": [
      "['file']\n"
     ]
    }
   ],
   "source": [
    "text = \"/home/user/documents/report.pdf and C:\\\\Users\\\\Admin\\\\file.txt\"\n",
    "file_names = re.findall(r'[^\\\\/]+(?=\\.[^\\\\/]+$)', text)\n",
    "print(file_names)"
   ]
  },
  {
   "cell_type": "code",
   "execution_count": 30,
   "metadata": {},
   "outputs": [
    {
     "name": "stdout",
     "output_type": "stream",
     "text": [
      "['Beautiful']\n"
     ]
    }
   ],
   "source": [
    "text = \"Beautiful ocean scenery is amazing\"\n",
    "words_with_vowels = re.findall(r'\\b\\w*[aeiouAEIOU]{3}\\w*\\b', text)\n",
    "print(words_with_vowels)"
   ]
  }
 ],
 "metadata": {
  "kernelspec": {
   "display_name": "Python 3",
   "language": "python",
   "name": "python3"
  },
  "language_info": {
   "codemirror_mode": {
    "name": "ipython",
    "version": 3
   },
   "file_extension": ".py",
   "mimetype": "text/x-python",
   "name": "python",
   "nbconvert_exporter": "python",
   "pygments_lexer": "ipython3",
   "version": "3.9.13"
  },
  "orig_nbformat": 4
 },
 "nbformat": 4,
 "nbformat_minor": 2
}
