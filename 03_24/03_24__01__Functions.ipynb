{
 "cells": [
  {
   "cell_type": "code",
   "execution_count": 2,
   "metadata": {},
   "outputs": [
    {
     "name": "stdout",
     "output_type": "stream",
     "text": [
      "The time required to make 800000 into  1600000 is 9.0 years\n"
     ]
    }
   ],
   "source": [
    "def double_money(amount):\n",
    "    IR = 8\n",
    "    print(f\"The time required to make {amount} into {amount*2} is {72/IR} years\")\n",
    "\n",
    "double_money(800000)"
   ]
  },
  {
   "cell_type": "code",
   "execution_count": 7,
   "id": "ce84a023",
   "metadata": {},
   "outputs": [
    {
     "name": "stdout",
     "output_type": "stream",
     "text": [
      "8\n"
     ]
    }
   ],
   "source": [
    "def sec_largest():\n",
    "    x = input(\"enter the numbers\")\n",
    "    x = x.strip().split()\n",
    "    x.sort()\n",
    "    print(x[-2])\n",
    "\n",
    "sec_largest()"
   ]
  },
  {
   "cell_type": "code",
   "execution_count": 20,
   "id": "4cece7fe",
   "metadata": {},
   "outputs": [
    {
     "name": "stdout",
     "output_type": "stream",
     "text": [
      "  $\n",
      " $$$\n",
      "$$$$$\n"
     ]
    }
   ],
   "source": [
    "def full_pyramid(n, sym):\n",
    "    for i in range(1, n + 1):\n",
    "        for j in range(n - i):\n",
    "            print(\" \", end=\"\")\n",
    "        for k in range(1, 2*i):\n",
    "            print(sym, end=\"\")\n",
    "        print()\n",
    "full_pyramid(3, \"$\")"
   ]
  },
  {
   "cell_type": "code",
   "execution_count": null,
   "id": "0714a763",
   "metadata": {},
   "outputs": [],
   "source": []
  }
 ],
 "metadata": {
  "kernelspec": {
   "display_name": "Python 3",
   "language": "python",
   "name": "python3"
  },
  "language_info": {
   "codemirror_mode": {
    "name": "ipython",
    "version": 3
   },
   "file_extension": ".py",
   "mimetype": "text/x-python",
   "name": "python",
   "nbconvert_exporter": "python",
   "pygments_lexer": "ipython3",
   "version": "3.9.13"
  }
 },
 "nbformat": 4,
 "nbformat_minor": 5
}
