{
 "cells": [
  {
   "cell_type": "code",
   "execution_count": 1,
   "metadata": {},
   "outputs": [
    {
     "name": "stdout",
     "output_type": "stream",
     "text": [
      "S L A P E P\n"
     ]
    }
   ],
   "source": [
    "import random\n",
    "\n",
    "def jumble(word):\n",
    "    letters = list(word)\n",
    "    random.shuffle(letters)\n",
    "    jumbled_word = \" \".join(letters).upper()\n",
    "    \n",
    "    return jumbled_word\n",
    "\n",
    "result = jumble(\"apples\")\n",
    "print(result)"
   ]
  },
  {
   "cell_type": "code",
   "execution_count": 7,
   "metadata": {},
   "outputs": [
    {
     "name": "stdout",
     "output_type": "stream",
     "text": [
      "False\n"
     ]
    }
   ],
   "source": [
    "x = int(input(\"Enter the query number\"))\n",
    "def fibo(n):\n",
    "    if n <= 0:\n",
    "        return \"Input a correct number (positive integer)\"\n",
    "    fib_sequence = []\n",
    "    a, b = 0, 1\n",
    "    for i in range(n):\n",
    "        fib_sequence.append(a)\n",
    "        a, b = b, a + b\n",
    "    \n",
    "    return fib_sequence\n",
    "result = fibo(100)\n",
    "print(True if x in result else False)"
   ]
  },
  {
   "cell_type": "code",
   "execution_count": 6,
   "metadata": {},
   "outputs": [
    {
     "name": "stdout",
     "output_type": "stream",
     "text": [
      "{'a': '20', 'b': 70, 'c': '50'}\n"
     ]
    }
   ],
   "source": [
    "def merge_dicts(d1, d2):\n",
    "    merged = {}\n",
    "\n",
    "    all_keys = set(d1.keys()).union(set(d2.keys()))\n",
    "\n",
    "    for key in all_keys:\n",
    "        val1 = d1.get(key, 0) if isinstance(d1.get(key), (int, float)) else d1.get(key, '')\n",
    "        val2 = d2.get(key, 0) if isinstance(d2.get(key), (int, float)) else d2.get(key, '')\n",
    "\n",
    "        if isinstance(val1, (int, float)) and isinstance(val2, (int, float)):\n",
    "            merged[key] = val1 + val2 \n",
    "        elif isinstance(val1, str) and isinstance(val2, str):\n",
    "            merged[key] = val1 + val2\n",
    "        elif isinstance(val1, (int, float)) and isinstance(val2, str):\n",
    "            merged[key] = str(val1) + val2\n",
    "        elif isinstance(val1, str) and isinstance(val2, (int, float)):\n",
    "            merged[key] = val1 + str(val2)\n",
    "        else:\n",
    "            merged[key] = val1 if key in d1 else val2\n",
    "\n",
    "    return merged\n",
    "d1 = {'a': 20, 'b': 30}\n",
    "d2 = {'b': 40, 'c': 50}\n",
    "\n",
    "result = merge_dicts(d1, d2)\n",
    "print(dict(sorted(result.items(), key=lambda item: item[0])))"
   ]
  },
  {
   "cell_type": "code",
   "execution_count": 9,
   "metadata": {},
   "outputs": [
    {
     "name": "stdout",
     "output_type": "stream",
     "text": [
      "34\n"
     ]
    }
   ],
   "source": [
    "n = int(input(\"Enter the number: \"))\n",
    "\n",
    "def fibo(n):\n",
    "    if (n<1):\n",
    "        return n\n",
    "    elif(n==1):\n",
    "        return 0\n",
    "    elif(n==2):\n",
    "        return 1\n",
    "    else:\n",
    "        return((fibo(n-1)+fibo(n-2)))\n",
    "    \n",
    "print(fibo(n))"
   ]
  },
  {
   "cell_type": "code",
   "execution_count": 12,
   "metadata": {},
   "outputs": [
    {
     "data": {
      "text/plain": [
       "5040"
      ]
     },
     "execution_count": 12,
     "metadata": {},
     "output_type": "execute_result"
    }
   ],
   "source": [
    "n = int(input(\"Enter the number: \"))\n",
    "\n",
    "def fact(n):\n",
    "    if (n<1):\n",
    "        return 1\n",
    "    else:\n",
    "        return n*fact(n-1)\n",
    "    \n",
    "fact(n)"
   ]
  },
  {
   "cell_type": "code",
   "execution_count": 20,
   "metadata": {},
   "outputs": [
    {
     "name": "stdout",
     "output_type": "stream",
     "text": [
      "[(1, 2, 3)]\n",
      "[(1, 2), (1, 3), (2, 3)]\n",
      "[(1,), (2,), (3,)]\n",
      "[()]\n"
     ]
    }
   ],
   "source": [
    "from itertools import combinations\n",
    "def generate_subsets(n, s):\n",
    "    if (s>=0):\n",
    "        print(list(combinations(n,s)))\n",
    "        generate_subsets(n,s-1)\n",
    "\n",
    "    else:\n",
    "        return '[]'\n",
    "    \n",
    "generate_subsets([1,2,3], len([1,2,3]))"
   ]
  },
  {
   "cell_type": "code",
   "execution_count": 29,
   "metadata": {},
   "outputs": [
    {
     "name": "stdout",
     "output_type": "stream",
     "text": [
      "[2, 5]\n"
     ]
    }
   ],
   "source": [
    "n = int(input(\"enter the no.of lists wanted: \"))\n",
    "for i in range(n):\n",
    "    lists  = list(map(int, input(f\"enter list{i+1}:\").split()))\n",
    "    globals()[f'list{i+1}'] = lists\n",
    "\n",
    "def common(*lists):\n",
    "    if not lists:\n",
    "        return []\n",
    "    return list(set(lists[0]).intersection(*map(set, lists[1:])))\n",
    "\n",
    "all_lists = [globals()[f'list{i+1}'] for i in range(n)]\n",
    "print(common(*all_lists))\n",
    "    "
   ]
  },
  {
   "cell_type": "code",
   "execution_count": null,
   "metadata": {},
   "outputs": [],
   "source": [
    "def generate_subsets(n, s):\n",
    "    if (s>=0):\n",
    "        generate_subsets(n,s-1)\n",
    "\n",
    "    else:\n",
    "        return '[]'\n",
    "    \n",
    "generate_subsets([1,2,3], len([1,2,3]))"
   ]
  }
 ],
 "metadata": {
  "kernelspec": {
   "display_name": "Python 3",
   "language": "python",
   "name": "python3"
  },
  "language_info": {
   "codemirror_mode": {
    "name": "ipython",
    "version": 3
   },
   "file_extension": ".py",
   "mimetype": "text/x-python",
   "name": "python",
   "nbconvert_exporter": "python",
   "pygments_lexer": "ipython3",
   "version": "3.9.13"
  },
  "orig_nbformat": 4
 },
 "nbformat": 4,
 "nbformat_minor": 2
}
