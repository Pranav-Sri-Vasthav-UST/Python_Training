{
 "cells": [
  {
   "cell_type": "code",
   "execution_count": 2,
   "metadata": {},
   "outputs": [
    {
     "data": {
      "text/plain": [
       "[1, 4, 5]"
      ]
     },
     "execution_count": 2,
     "metadata": {},
     "output_type": "execute_result"
    }
   ],
   "source": [
    "a = [1,2,3,4,5]\n",
    "b = [2,3]\n",
    "x = [i for i in a if i not in b]\n",
    "x"
   ]
  },
  {
   "cell_type": "code",
   "execution_count": 8,
   "metadata": {},
   "outputs": [
    {
     "name": "stdout",
     "output_type": "stream",
     "text": [
      "2 [(1, 4), (4, 7)]\n"
     ]
    }
   ],
   "source": [
    "strio = input(\"enter the string\")\n",
    "substrio = input(\"enter the sub_string\")\n",
    "li = []\n",
    "def spansub(stri, substri):\n",
    "    x = len(substri)\n",
    "    for i in range(len(stri)):\n",
    "        subs = x+i\n",
    "        if substri == stri[i:subs]:\n",
    "            li.append((i,subs))\n",
    "\n",
    "    print(len(li), li)\n",
    "spansub(strio, substrio)"
   ]
  },
  {
   "cell_type": "code",
   "execution_count": null,
   "metadata": {},
   "outputs": [],
   "source": []
  }
 ],
 "metadata": {
  "kernelspec": {
   "display_name": "Python 3",
   "language": "python",
   "name": "python3"
  },
  "language_info": {
   "codemirror_mode": {
    "name": "ipython",
    "version": 3
   },
   "file_extension": ".py",
   "mimetype": "text/x-python",
   "name": "python",
   "nbconvert_exporter": "python",
   "pygments_lexer": "ipython3",
   "version": "3.9.13"
  },
  "orig_nbformat": 4
 },
 "nbformat": 4,
 "nbformat_minor": 2
}
