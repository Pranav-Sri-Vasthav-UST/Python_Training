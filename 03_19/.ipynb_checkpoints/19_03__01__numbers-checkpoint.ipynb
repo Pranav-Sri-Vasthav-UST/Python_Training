{
 "cells": [
  {
   "cell_type": "code",
   "execution_count": 1,
   "id": "d5dfcf17-7b76-4389-b9ee-8c5e174b5f81",
   "metadata": {},
   "outputs": [
    {
     "name": "stdout",
     "output_type": "stream",
     "text": [
      "hi\n"
     ]
    }
   ],
   "source": [
    "print(\"hi\")"
   ]
  },
  {
   "cell_type": "code",
   "execution_count": 2,
   "id": "51b22325-b322-49e6-b97b-a221d25bc19d",
   "metadata": {},
   "outputs": [],
   "source": [
    "a = 10\n",
    "b = 36.789"
   ]
  },
  {
   "cell_type": "code",
   "execution_count": 3,
   "id": "27481faa-240d-45c6-9227-f9b95c4ca62d",
   "metadata": {},
   "outputs": [
    {
     "data": {
      "text/plain": [
       "10"
      ]
     },
     "execution_count": 3,
     "metadata": {},
     "output_type": "execute_result"
    }
   ],
   "source": [
    "a"
   ]
  },
  {
   "cell_type": "code",
   "execution_count": 4,
   "id": "56741209-c48c-4f64-83ea-fef1ad39dccf",
   "metadata": {},
   "outputs": [
    {
     "data": {
      "text/plain": [
       "36.789"
      ]
     },
     "execution_count": 4,
     "metadata": {},
     "output_type": "execute_result"
    }
   ],
   "source": [
    "b"
   ]
  },
  {
   "cell_type": "markdown",
   "id": "ab47a4d2-ea74-42c1-b171-b7daf221f512",
   "metadata": {},
   "source": [
    "problem 1"
   ]
  },
  {
   "cell_type": "code",
   "execution_count": 6,
   "id": "532cb9a9-6821-48bf-add7-61c4f63e77fc",
   "metadata": {},
   "outputs": [
    {
     "data": {
      "text/plain": [
       "86.0"
      ]
     },
     "execution_count": 6,
     "metadata": {},
     "output_type": "execute_result"
    }
   ],
   "source": [
    "c = 30\n",
    "f = ((9/5)*(c))+32\n",
    "f"
   ]
  },
  {
   "cell_type": "markdown",
   "id": "dd6d8562-4e34-4835-bc10-efa34c91442a",
   "metadata": {},
   "source": [
    "problem 2"
   ]
  },
  {
   "cell_type": "code",
   "execution_count": 9,
   "id": "cbe40dea-55c6-44f3-ae80-196bc9142073",
   "metadata": {},
   "outputs": [
    {
     "data": {
      "text/plain": [
       "1.4142135623730951"
      ]
     },
     "execution_count": 9,
     "metadata": {},
     "output_type": "execute_result"
    }
   ],
   "source": [
    "import math\n",
    "x1, x2, y1, y2 = 3, 4, 5, 6\n",
    "dis = math.sqrt(math.pow((x1-x2),2) + math.pow((y1-y2),2))\n",
    "dis"
   ]
  },
  {
   "cell_type": "markdown",
   "id": "b146f345-6900-42c6-a96e-773f2f500b55",
   "metadata": {},
   "source": [
    "Problem3"
   ]
  },
  {
   "cell_type": "code",
   "execution_count": 10,
   "id": "6b424f63-3e9b-413f-842d-82f66e806ebd",
   "metadata": {},
   "outputs": [
    {
     "data": {
      "text/plain": [
       "4.0"
      ]
     },
     "execution_count": 10,
     "metadata": {},
     "output_type": "execute_result"
    }
   ],
   "source": [
    "x1, x2, x3, y1, y2, y3 = 2, 4, 6, 7, 9, 7\n",
    "area = 0.5 * abs(x1 * (y2 - y3) + x2 * (y3 - y1) + x3 * (y1 - y2))\n",
    "area"
   ]
  }
 ],
 "metadata": {
  "kernelspec": {
   "display_name": "Python 3 (ipykernel)",
   "language": "python",
   "name": "python3"
  },
  "language_info": {
   "codemirror_mode": {
    "name": "ipython",
    "version": 3
   },
   "file_extension": ".py",
   "mimetype": "text/x-python",
   "name": "python",
   "nbconvert_exporter": "python",
   "pygments_lexer": "ipython3",
   "version": "3.12.4"
  }
 },
 "nbformat": 4,
 "nbformat_minor": 5
}
